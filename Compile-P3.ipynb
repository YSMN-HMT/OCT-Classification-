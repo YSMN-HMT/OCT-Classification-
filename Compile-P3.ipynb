#*******************************************************
#Train and test the model
#*******************************************************
# Compile the model
model.compile(loss='binary_crossentropy',
              optimizer=Nadam(lr=0.000003),
              metrics=['binary_accuracy'])
			  
# Train the model
history = model.fit_generator(
      train_generator,
      steps_per_epoch= train_generator.samples//train_generator.batch_size ,
      epochs=15,
      validation_data=validation_generator,
      validation_steps=validation_generator.samples//validation_generator.batch_size,
      shuffle =True,
      verbose=1)
 
# Save the model
model.save('VGG163.h5')
