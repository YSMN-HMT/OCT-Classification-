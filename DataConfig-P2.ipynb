#*******************************************************
#Data related functions
#*******************************************************
#Augmentation    
train_datagen = ImageDataGenerator(
      rescale=1./255,
      rotation_range=20,
      width_shift_range=0.2,
      height_shift_range=0.2,
      horizontal_flip=True,
      fill_mode='nearest')
 
validation_datagen = ImageDataGenerator(rescale=1./255)

# Change the batchsize according to your system RAM
train_batchsize = 20
val_batchsize = 20
 
#Generate the proposed form of data
train_generator = train_datagen.flow_from_directory(
        train_dir,
        target_size=(imgsize1, imgsize2),
        batch_size=train_batchsize,
        shuffle = True,
        class_mode='binary')
 
validation_generator = validation_datagen.flow_from_directory(
        validation_dir,
        target_size=(imgsize1, imgsize2),
        batch_size=val_batchsize,
        class_mode='binary',
        shuffle=False)