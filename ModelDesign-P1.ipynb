#*******************************************************
# Build the model in sequential.
#*******************************************************
from keras import regularizers
from keras.preprocessing.image import ImageDataGenerator
from keras.applications import VGG16
from keras import models
from keras import layers
from keras.optimizers import Nadam

train_dir = 'Train directory'
validation_dir = 'Validation directory'

imgsize1 =224
imgsize2=224

vgg_conv = VGG16(weights='imagenet',
                  include_top=False,
                  input_shape=(imgsize1, imgsize2 ,3))
for layer in vgg_conv.layers[:-4]:
   layer.trainable = False
    
# Create the model
model = models.Sequential()
model.add(vgg_conv)
# Add new layers
model.add(layers.Flatten())
#model.add(layers.Dense(1024, activation='relu'))
model.add(layers.Dense(256, activation='relu'))
model.add(layers.Dropout(0.2))#, kernel_regularizer=regularizers.l2(0.005)
model.add(layers.Dense(1, activation='sigmoid'))